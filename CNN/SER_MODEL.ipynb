{
 "cells": [
  {
   "cell_type": "code",
   "execution_count": 1,
   "id": "bac18f94",
   "metadata": {},
   "outputs": [],
   "source": [
    "import librosa\n",
    "\n",
    "data, sampling_rate = librosa.load('E:/#1 DATA SCIENCE/#4 Deep Learning/Projects/Speech Emotion Detection/Features/Actor_01/03-01-01-01-01-01-01.wav')"
   ]
  },
  {
   "cell_type": "code",
   "execution_count": 2,
   "id": "c024ddbf",
   "metadata": {},
   "outputs": [
    {
     "data": {
      "text/plain": [
       "<librosa.display.AdaptiveWaveplot at 0x2ca2163ac80>"
      ]
     },
     "execution_count": 2,
     "metadata": {},
     "output_type": "execute_result"
    },
    {
     "data": {
      "image/png": "[encoded data removed]",
      "text/plain": [
       "<Figure size 1200x400 with 1 Axes>"
      ]
     },
     "metadata": {},
     "output_type": "display_data"
    }
   ],
   "source": [
    "import matplotlib.pyplot as plt\n",
    "plt.figure(figsize=(12, 4))\n",
    "librosa.display.waveshow(data, sr=sampling_rate)"
   ]
  },
  {
   "cell_type": "markdown",
   "id": "3d266f8d",
   "metadata": {},
   "source": [
    "# Loading the Dataset stored as joblib file"
   ]
  },
  {
   "cell_type": "code",
   "execution_count": 3,
   "id": "5d8a1462",
   "metadata": {},
   "outputs": [],
   "source": [
    "import joblib\n",
    "X = joblib.load('E:/#1 DATA SCIENCE/#4 Deep Learning/Projects/Speech Emotion Detection/Job_Lib Features/X.joblib')\n",
    "y = joblib.load('E:/#1 DATA SCIENCE/#4 Deep Learning/Projects/Speech Emotion Detection/Job_Lib Features/y.joblib')"
   ]
  },
  {
   "cell_type": "markdown",
   "id": "0e7376d5",
   "metadata": {},
   "source": [
    "# Splitting the Dataset"
   ]
  },
  {
   "cell_type": "code",
   "execution_count": 4,
   "id": "c3fc6b08",
   "metadata": {},
   "outputs": [],
   "source": [
    "from sklearn.model_selection import train_test_split\n",
    "\n",
    "X_train, X_test, y_train, y_test = train_test_split(X,y, test_size=0.33, random_state=42)"
   ]
  },
  {
   "cell_type": "markdown",
   "id": "c0b8dd93",
   "metadata": {},
   "source": [
    "### np.expand_dims function is used to add a new axis to the arrays X_train and X_test. It is commonly used when working with deep learning models, especially with Convolutional Neural Networks (CNNs), which require input data in a specific format."
   ]
  },
  {
   "cell_type": "code",
   "execution_count": 5,
   "id": "24e5a687",
   "metadata": {},
   "outputs": [],
   "source": [
    "\n",
    "import numpy as np\n",
    "x_traincnn = np.expand_dims(X_train, axis=2)\n",
    "x_testcnn = np.expand_dims(X_test, axis=2)"
   ]
  },
  {
   "cell_type": "code",
   "execution_count": 6,
   "id": "19dbba8a",
   "metadata": {},
   "outputs": [
    {
     "data": {
      "text/plain": [
       "((3518, 40, 1), (1734, 40, 1))"
      ]
     },
     "execution_count": 6,
     "metadata": {},
     "output_type": "execute_result"
    }
   ],
   "source": [
    "x_traincnn.shape, x_testcnn.shape"
   ]
  },
  {
   "cell_type": "code",
   "execution_count": 7,
   "id": "9231e0df",
   "metadata": {},
   "outputs": [],
   "source": [
    "import keras\n",
    "import numpy as np\n",
    "from keras.models import Sequential\n",
    "from keras.layers import Dense, Embedding\n",
    "from keras.layers import Input, Flatten, Dropout, Activation\n",
    "from keras.layers import Conv1D, MaxPooling1D\n",
    "from keras.models import Model"
   ]
  },
  {
   "cell_type": "code",
   "execution_count": 8,
   "id": "244b9097",
   "metadata": {},
   "outputs": [],
   "source": [
    "model = Sequential()\n",
    "\n",
    "model.add(Conv1D(64, 5,padding='same',\n",
    "                 input_shape=(40,1)))\n",
    "model.add(Activation('relu'))\n",
    "model.add(Dropout(0.1))\n",
    "model.add(MaxPooling1D(pool_size=(4)))\n",
    "model.add(Conv1D(128, 5,padding='same',))\n",
    "model.add(Activation('relu'))\n",
    "model.add(Dropout(0.1))\n",
    "model.add(MaxPooling1D(pool_size=(4)))\n",
    "model.add(Conv1D(256, 5,padding='same',))\n",
    "model.add(Activation('relu'))\n",
    "model.add(Dropout(0.1))\n",
    "model.add(Flatten())\n",
    "model.add(Dense(8))\n",
    "model.add(Activation('softmax'))\n",
    "opt = keras.optimizers.RMSprop(learning_rate=0.00005, rho=0.9, epsilon=1e-07, decay=0.0)"
   ]
  },
  {
   "cell_type": "code",
   "execution_count": 9,
   "id": "e2943792",
   "metadata": {},
   "outputs": [
    {
     "name": "stdout",
     "output_type": "stream",
     "text": [
      "Model: \"sequential\"\n",
      "_________________________________________________________________\n",
      " Layer (type)                Output Shape              Param #   \n",
      "=================================================================\n",
      " conv1d (Conv1D)             (None, 40, 64)            384       \n",
      "                                                                 \n",
      " activation (Activation)     (None, 40, 64)            0         \n",
      "                                                                 \n",
      " dropout (Dropout)           (None, 40, 64)            0         \n",
      "                                                                 \n",
      " max_pooling1d (MaxPooling1D  (None, 10, 64)           0         \n",
      " )                                                               \n",
      "                                                                 \n",
      " conv1d_1 (Conv1D)           (None, 10, 128)           41088     \n",
      "                                                                 \n",
      " activation_1 (Activation)   (None, 10, 128)           0         \n",
      "                                                                 \n",
      " dropout_1 (Dropout)         (None, 10, 128)           0         \n",
      "                                                                 \n",
      " max_pooling1d_1 (MaxPooling  (None, 2, 128)           0         \n",
      " 1D)                                                             \n",
      "                                                                 \n",
      " conv1d_2 (Conv1D)           (None, 2, 256)            164096    \n",
      "                                                                 \n",
      " activation_2 (Activation)   (None, 2, 256)            0         \n",
      "                                                                 \n",
      " dropout_2 (Dropout)         (None, 2, 256)            0         \n",
      "                                                                 \n",
      " flatten (Flatten)           (None, 512)               0         \n",
      "                                                                 \n",
      " dense (Dense)               (None, 8)                 4104      \n",
      "                                                                 \n",
      " activation_3 (Activation)   (None, 8)                 0         \n",
      "                                                                 \n",
      "=================================================================\n",
      "Total params: 209,672\n",
      "Trainable params: 209,672\n",
      "Non-trainable params: 0\n",
      "_________________________________________________________________\n"
     ]
    }
   ],
   "source": [
    "model.summary()"
   ]
  },
  {
   "cell_type": "code",
   "execution_count": 10,
   "id": "5384dda1",
   "metadata": {},
   "outputs": [],
   "source": [
    "model.compile(loss='sparse_categorical_crossentropy',\n",
    "              optimizer=opt,\n",
    "              metrics=['accuracy'])"
   ]
  },
  {
   "cell_type": "code",
   "execution_count": 11,
   "id": "370a12ed",
   "metadata": {},
   "outputs": [
    {
     "name": "stdout",
     "output_type": "stream",
     "text": [
      "Epoch 1/205\n",
      "220/220 [==============================] - 3s 8ms/step - loss: 3.6572 - accuracy: 0.1865 - val_loss: 1.7043 - val_accuracy: 0.4100\n",
      "Epoch 2/205\n",
      "220/220 [==============================] - 1s 7ms/step - loss: 2.3305 - accuracy: 0.3221 - val_loss: 1.4814 - val_accuracy: 0.4844\n",
      "Epoch 3/205\n",
      "220/220 [==============================] - 2s 7ms/step - loss: 1.8596 - accuracy: 0.3960 - val_loss: 1.3286 - val_accuracy: 0.5248\n",
      "Epoch 4/205\n",
      "220/220 [==============================] - 2s 7ms/step - loss: 1.5859 - accuracy: 0.4687 - val_loss: 1.2942 - val_accuracy: 0.5623\n",
      "Epoch 5/205\n",
      "220/220 [==============================] - 2s 7ms/step - loss: 1.4533 - accuracy: 0.5199 - val_loss: 1.1866 - val_accuracy: 0.5790\n",
      "Epoch 6/205\n",
      "220/220 [==============================] - 2s 8ms/step - loss: 1.3338 - accuracy: 0.5520 - val_loss: 1.1298 - val_accuracy: 0.6044\n",
      "Epoch 7/205\n",
      "220/220 [==============================] - 2s 8ms/step - loss: 1.2397 - accuracy: 0.5765 - val_loss: 1.0774 - val_accuracy: 0.6055\n",
      "Epoch 8/205\n",
      "220/220 [==============================] - 2s 8ms/step - loss: 1.1843 - accuracy: 0.5998 - val_loss: 0.9967 - val_accuracy: 0.6453\n",
      "Epoch 9/205\n",
      "220/220 [==============================] - 2s 8ms/step - loss: 1.1401 - accuracy: 0.6080 - val_loss: 1.0082 - val_accuracy: 0.6390\n",
      "Epoch 10/205\n",
      "220/220 [==============================] - 2s 9ms/step - loss: 1.0745 - accuracy: 0.6276 - val_loss: 0.9187 - val_accuracy: 0.6684\n",
      "Epoch 11/205\n",
      "220/220 [==============================] - 2s 8ms/step - loss: 1.0243 - accuracy: 0.6399 - val_loss: 0.8950 - val_accuracy: 0.6667\n",
      "Epoch 12/205\n",
      "220/220 [==============================] - 2s 8ms/step - loss: 0.9921 - accuracy: 0.6475 - val_loss: 0.8927 - val_accuracy: 0.6644\n",
      "Epoch 13/205\n",
      "220/220 [==============================] - 2s 8ms/step - loss: 0.9735 - accuracy: 0.6526 - val_loss: 0.8522 - val_accuracy: 0.6932\n",
      "Epoch 14/205\n",
      "220/220 [==============================] - 2s 8ms/step - loss: 0.9478 - accuracy: 0.6561 - val_loss: 0.8497 - val_accuracy: 0.6863\n",
      "Epoch 15/205\n",
      "220/220 [==============================] - 2s 8ms/step - loss: 0.9330 - accuracy: 0.6609 - val_loss: 0.8141 - val_accuracy: 0.7076\n",
      "Epoch 16/205\n",
      "220/220 [==============================] - 2s 8ms/step - loss: 0.9146 - accuracy: 0.6660 - val_loss: 0.8191 - val_accuracy: 0.6886\n",
      "Epoch 17/205\n",
      "220/220 [==============================] - 2s 8ms/step - loss: 0.9015 - accuracy: 0.6728 - val_loss: 0.8116 - val_accuracy: 0.7065\n",
      "Epoch 18/205\n",
      "220/220 [==============================] - 2s 8ms/step - loss: 0.8746 - accuracy: 0.6788 - val_loss: 0.7934 - val_accuracy: 0.7220\n",
      "Epoch 19/205\n",
      "220/220 [==============================] - 2s 8ms/step - loss: 0.8709 - accuracy: 0.6811 - val_loss: 0.7788 - val_accuracy: 0.7007\n",
      "Epoch 20/205\n",
      "220/220 [==============================] - 2s 8ms/step - loss: 0.8334 - accuracy: 0.6922 - val_loss: 0.7968 - val_accuracy: 0.7105\n",
      "Epoch 21/205\n",
      "220/220 [==============================] - 2s 8ms/step - loss: 0.8298 - accuracy: 0.6953 - val_loss: 0.7878 - val_accuracy: 0.6984\n",
      "Epoch 22/205\n",
      "220/220 [==============================] - 2s 8ms/step - loss: 0.8040 - accuracy: 0.7024 - val_loss: 0.7374 - val_accuracy: 0.7318\n",
      "Epoch 23/205\n",
      "220/220 [==============================] - 2s 8ms/step - loss: 0.8088 - accuracy: 0.7010 - val_loss: 0.7540 - val_accuracy: 0.7336\n",
      "Epoch 24/205\n",
      "220/220 [==============================] - 2s 8ms/step - loss: 0.7930 - accuracy: 0.7152 - val_loss: 0.7419 - val_accuracy: 0.7341\n",
      "Epoch 25/205\n",
      "220/220 [==============================] - 2s 8ms/step - loss: 0.7809 - accuracy: 0.7152 - val_loss: 0.7247 - val_accuracy: 0.7336\n",
      "Epoch 26/205\n",
      "220/220 [==============================] - 2s 9ms/step - loss: 0.7813 - accuracy: 0.7064 - val_loss: 0.7122 - val_accuracy: 0.7341\n",
      "Epoch 27/205\n",
      "220/220 [==============================] - 2s 8ms/step - loss: 0.7698 - accuracy: 0.7183 - val_loss: 0.7087 - val_accuracy: 0.7399\n",
      "Epoch 28/205\n",
      "220/220 [==============================] - 2s 8ms/step - loss: 0.7434 - accuracy: 0.7251 - val_loss: 0.6986 - val_accuracy: 0.7434\n",
      "Epoch 29/205\n",
      "220/220 [==============================] - 2s 8ms/step - loss: 0.7518 - accuracy: 0.7194 - val_loss: 0.6855 - val_accuracy: 0.7486\n",
      "Epoch 30/205\n",
      "220/220 [==============================] - 2s 8ms/step - loss: 0.7348 - accuracy: 0.7237 - val_loss: 0.6955 - val_accuracy: 0.7509\n",
      "Epoch 31/205\n",
      "220/220 [==============================] - 2s 8ms/step - loss: 0.7368 - accuracy: 0.7263 - val_loss: 0.7395 - val_accuracy: 0.7295\n",
      "Epoch 32/205\n",
      "220/220 [==============================] - 2s 8ms/step - loss: 0.7216 - accuracy: 0.7328 - val_loss: 0.6771 - val_accuracy: 0.7647\n",
      "Epoch 33/205\n",
      "220/220 [==============================] - 2s 8ms/step - loss: 0.7217 - accuracy: 0.7334 - val_loss: 0.7033 - val_accuracy: 0.7318\n",
      "Epoch 34/205\n",
      "220/220 [==============================] - 2s 8ms/step - loss: 0.7030 - accuracy: 0.7314 - val_loss: 0.6932 - val_accuracy: 0.7428\n",
      "Epoch 35/205\n",
      "220/220 [==============================] - 2s 8ms/step - loss: 0.6979 - accuracy: 0.7422 - val_loss: 0.6659 - val_accuracy: 0.7572\n",
      "Epoch 36/205\n",
      "220/220 [==============================] - 2s 9ms/step - loss: 0.6758 - accuracy: 0.7473 - val_loss: 0.6493 - val_accuracy: 0.7624\n",
      "Epoch 37/205\n",
      "220/220 [==============================] - 2s 8ms/step - loss: 0.6867 - accuracy: 0.7479 - val_loss: 0.6566 - val_accuracy: 0.7601\n",
      "Epoch 38/205\n",
      "220/220 [==============================] - 2s 8ms/step - loss: 0.6855 - accuracy: 0.7413 - val_loss: 0.6417 - val_accuracy: 0.7739\n",
      "Epoch 39/205\n",
      "220/220 [==============================] - 2s 8ms/step - loss: 0.6833 - accuracy: 0.7470 - val_loss: 0.6410 - val_accuracy: 0.7687\n",
      "Epoch 40/205\n",
      "220/220 [==============================] - 2s 8ms/step - loss: 0.6659 - accuracy: 0.7538 - val_loss: 0.6629 - val_accuracy: 0.7572\n",
      "Epoch 41/205\n",
      "220/220 [==============================] - 2s 8ms/step - loss: 0.6718 - accuracy: 0.7439 - val_loss: 0.6301 - val_accuracy: 0.7785\n",
      "Epoch 42/205\n",
      "220/220 [==============================] - 3s 12ms/step - loss: 0.6582 - accuracy: 0.7536 - val_loss: 0.6218 - val_accuracy: 0.7757\n",
      "Epoch 43/205\n",
      "220/220 [==============================] - 2s 9ms/step - loss: 0.6575 - accuracy: 0.7513 - val_loss: 0.6137 - val_accuracy: 0.7751\n",
      "Epoch 44/205\n",
      "220/220 [==============================] - 2s 8ms/step - loss: 0.6479 - accuracy: 0.7572 - val_loss: 0.6558 - val_accuracy: 0.7578\n",
      "Epoch 45/205\n",
      "220/220 [==============================] - 2s 8ms/step - loss: 0.6522 - accuracy: 0.7570 - val_loss: 0.6127 - val_accuracy: 0.7780\n",
      "Epoch 46/205\n",
      "220/220 [==============================] - 2s 8ms/step - loss: 0.6246 - accuracy: 0.7695 - val_loss: 0.6108 - val_accuracy: 0.7722\n",
      "Epoch 47/205\n",
      "220/220 [==============================] - 2s 8ms/step - loss: 0.6320 - accuracy: 0.7649 - val_loss: 0.6251 - val_accuracy: 0.7739\n",
      "Epoch 48/205\n",
      "220/220 [==============================] - 2s 8ms/step - loss: 0.6422 - accuracy: 0.7601 - val_loss: 0.6154 - val_accuracy: 0.7780\n",
      "Epoch 49/205\n",
      "220/220 [==============================] - 2s 8ms/step - loss: 0.6208 - accuracy: 0.7752 - val_loss: 0.6001 - val_accuracy: 0.7814\n",
      "Epoch 50/205\n",
      "220/220 [==============================] - 2s 8ms/step - loss: 0.6202 - accuracy: 0.7641 - val_loss: 0.5938 - val_accuracy: 0.7820\n",
      "Epoch 51/205\n",
      "220/220 [==============================] - 2s 8ms/step - loss: 0.5995 - accuracy: 0.7794 - val_loss: 0.5953 - val_accuracy: 0.7797\n",
      "Epoch 52/205\n",
      "220/220 [==============================] - 2s 8ms/step - loss: 0.6005 - accuracy: 0.7769 - val_loss: 0.5952 - val_accuracy: 0.7757\n",
      "Epoch 53/205\n",
      "220/220 [==============================] - 2s 8ms/step - loss: 0.6182 - accuracy: 0.7729 - val_loss: 0.5924 - val_accuracy: 0.7907\n",
      "Epoch 54/205\n",
      "220/220 [==============================] - 2s 8ms/step - loss: 0.5997 - accuracy: 0.7828 - val_loss: 0.5985 - val_accuracy: 0.7820\n",
      "Epoch 55/205\n",
      "220/220 [==============================] - 2s 8ms/step - loss: 0.6056 - accuracy: 0.7777 - val_loss: 0.5958 - val_accuracy: 0.7855\n",
      "Epoch 56/205\n",
      "220/220 [==============================] - 2s 8ms/step - loss: 0.5932 - accuracy: 0.7763 - val_loss: 0.6052 - val_accuracy: 0.7785\n",
      "Epoch 57/205\n",
      "220/220 [==============================] - 2s 8ms/step - loss: 0.5920 - accuracy: 0.7840 - val_loss: 0.6158 - val_accuracy: 0.7693\n"
     ]
    },
    {
     "name": "stdout",
     "output_type": "stream",
     "text": [
      "Epoch 58/205\n",
      "220/220 [==============================] - 2s 8ms/step - loss: 0.5797 - accuracy: 0.7854 - val_loss: 0.5710 - val_accuracy: 0.7912\n",
      "Epoch 59/205\n",
      "220/220 [==============================] - 2s 8ms/step - loss: 0.5815 - accuracy: 0.7868 - val_loss: 0.5694 - val_accuracy: 0.7918\n",
      "Epoch 60/205\n",
      "220/220 [==============================] - 2s 8ms/step - loss: 0.5682 - accuracy: 0.7925 - val_loss: 0.5705 - val_accuracy: 0.8016\n",
      "Epoch 61/205\n",
      "220/220 [==============================] - 2s 8ms/step - loss: 0.5739 - accuracy: 0.7848 - val_loss: 0.5873 - val_accuracy: 0.7889\n",
      "Epoch 62/205\n",
      "220/220 [==============================] - 2s 8ms/step - loss: 0.5698 - accuracy: 0.7916 - val_loss: 0.5777 - val_accuracy: 0.7826\n",
      "Epoch 63/205\n",
      "220/220 [==============================] - 2s 8ms/step - loss: 0.5665 - accuracy: 0.7908 - val_loss: 0.5663 - val_accuracy: 0.7866\n",
      "Epoch 64/205\n",
      "220/220 [==============================] - 2s 8ms/step - loss: 0.5538 - accuracy: 0.7996 - val_loss: 0.5785 - val_accuracy: 0.7849\n",
      "Epoch 65/205\n",
      "220/220 [==============================] - 2s 8ms/step - loss: 0.5673 - accuracy: 0.7911 - val_loss: 0.5596 - val_accuracy: 0.7958\n",
      "Epoch 66/205\n",
      "220/220 [==============================] - 2s 8ms/step - loss: 0.5564 - accuracy: 0.7914 - val_loss: 0.5604 - val_accuracy: 0.7901\n",
      "Epoch 67/205\n",
      "220/220 [==============================] - 2s 8ms/step - loss: 0.5460 - accuracy: 0.7979 - val_loss: 0.5652 - val_accuracy: 0.7924\n",
      "Epoch 68/205\n",
      "220/220 [==============================] - 2s 8ms/step - loss: 0.5428 - accuracy: 0.7942 - val_loss: 0.5484 - val_accuracy: 0.7999\n",
      "Epoch 69/205\n",
      "220/220 [==============================] - 2s 8ms/step - loss: 0.5379 - accuracy: 0.7990 - val_loss: 0.5416 - val_accuracy: 0.7964\n",
      "Epoch 70/205\n",
      "220/220 [==============================] - 2s 8ms/step - loss: 0.5308 - accuracy: 0.8042 - val_loss: 0.5432 - val_accuracy: 0.7970\n",
      "Epoch 71/205\n",
      "220/220 [==============================] - 2s 8ms/step - loss: 0.5369 - accuracy: 0.8027 - val_loss: 0.5465 - val_accuracy: 0.8016\n",
      "Epoch 72/205\n",
      "220/220 [==============================] - 2s 8ms/step - loss: 0.5337 - accuracy: 0.8059 - val_loss: 0.5480 - val_accuracy: 0.7982\n",
      "Epoch 73/205\n",
      "220/220 [==============================] - 2s 8ms/step - loss: 0.5262 - accuracy: 0.8070 - val_loss: 0.5452 - val_accuracy: 0.7970\n",
      "Epoch 74/205\n",
      "220/220 [==============================] - 2s 8ms/step - loss: 0.5252 - accuracy: 0.8101 - val_loss: 0.5567 - val_accuracy: 0.7964\n",
      "Epoch 75/205\n",
      "220/220 [==============================] - 2s 8ms/step - loss: 0.5250 - accuracy: 0.8064 - val_loss: 0.5356 - val_accuracy: 0.7987\n",
      "Epoch 76/205\n",
      "220/220 [==============================] - 2s 8ms/step - loss: 0.5214 - accuracy: 0.8104 - val_loss: 0.5459 - val_accuracy: 0.7941\n",
      "Epoch 77/205\n",
      "220/220 [==============================] - 2s 9ms/step - loss: 0.5208 - accuracy: 0.8084 - val_loss: 0.5410 - val_accuracy: 0.7993\n",
      "Epoch 78/205\n",
      "220/220 [==============================] - 2s 8ms/step - loss: 0.5086 - accuracy: 0.8104 - val_loss: 0.5441 - val_accuracy: 0.8039\n",
      "Epoch 79/205\n",
      "220/220 [==============================] - 2s 8ms/step - loss: 0.5165 - accuracy: 0.8121 - val_loss: 0.5209 - val_accuracy: 0.8039\n",
      "Epoch 80/205\n",
      "220/220 [==============================] - 2s 8ms/step - loss: 0.5006 - accuracy: 0.8132 - val_loss: 0.5252 - val_accuracy: 0.8068\n",
      "Epoch 81/205\n",
      "220/220 [==============================] - 2s 8ms/step - loss: 0.5071 - accuracy: 0.8164 - val_loss: 0.5215 - val_accuracy: 0.8045\n",
      "Epoch 82/205\n",
      "220/220 [==============================] - 2s 8ms/step - loss: 0.5043 - accuracy: 0.8138 - val_loss: 0.5162 - val_accuracy: 0.8120\n",
      "Epoch 83/205\n",
      "220/220 [==============================] - 2s 8ms/step - loss: 0.5030 - accuracy: 0.8167 - val_loss: 0.5282 - val_accuracy: 0.8074\n",
      "Epoch 84/205\n",
      "220/220 [==============================] - 2s 8ms/step - loss: 0.4982 - accuracy: 0.8169 - val_loss: 0.5249 - val_accuracy: 0.8080\n",
      "Epoch 85/205\n",
      "220/220 [==============================] - 2s 8ms/step - loss: 0.4923 - accuracy: 0.8164 - val_loss: 0.5357 - val_accuracy: 0.7999\n",
      "Epoch 86/205\n",
      "220/220 [==============================] - 2s 8ms/step - loss: 0.4929 - accuracy: 0.8167 - val_loss: 0.5478 - val_accuracy: 0.8051\n",
      "Epoch 87/205\n",
      "220/220 [==============================] - 2s 8ms/step - loss: 0.4944 - accuracy: 0.8209 - val_loss: 0.5126 - val_accuracy: 0.8097\n",
      "Epoch 88/205\n",
      "220/220 [==============================] - 2s 9ms/step - loss: 0.4995 - accuracy: 0.8155 - val_loss: 0.5110 - val_accuracy: 0.8149\n",
      "Epoch 89/205\n",
      "220/220 [==============================] - 2s 9ms/step - loss: 0.4807 - accuracy: 0.8198 - val_loss: 0.5137 - val_accuracy: 0.8126\n",
      "Epoch 90/205\n",
      "220/220 [==============================] - 2s 9ms/step - loss: 0.4701 - accuracy: 0.8192 - val_loss: 0.5030 - val_accuracy: 0.8131\n",
      "Epoch 91/205\n",
      "220/220 [==============================] - 2s 9ms/step - loss: 0.4780 - accuracy: 0.8269 - val_loss: 0.5079 - val_accuracy: 0.8120\n",
      "Epoch 92/205\n",
      "220/220 [==============================] - 2s 9ms/step - loss: 0.4738 - accuracy: 0.8186 - val_loss: 0.5244 - val_accuracy: 0.7999\n",
      "Epoch 93/205\n",
      "220/220 [==============================] - 2s 9ms/step - loss: 0.4775 - accuracy: 0.8221 - val_loss: 0.5056 - val_accuracy: 0.8120\n",
      "Epoch 94/205\n",
      "220/220 [==============================] - 2s 9ms/step - loss: 0.4678 - accuracy: 0.8303 - val_loss: 0.5030 - val_accuracy: 0.8097\n",
      "Epoch 95/205\n",
      "220/220 [==============================] - 2s 9ms/step - loss: 0.4614 - accuracy: 0.8329 - val_loss: 0.5056 - val_accuracy: 0.8120\n",
      "Epoch 96/205\n",
      "220/220 [==============================] - 2s 9ms/step - loss: 0.4605 - accuracy: 0.8204 - val_loss: 0.5068 - val_accuracy: 0.8172\n",
      "Epoch 97/205\n",
      "220/220 [==============================] - 2s 9ms/step - loss: 0.4523 - accuracy: 0.8309 - val_loss: 0.5153 - val_accuracy: 0.8039\n",
      "Epoch 98/205\n",
      "220/220 [==============================] - 2s 9ms/step - loss: 0.4690 - accuracy: 0.8269 - val_loss: 0.5004 - val_accuracy: 0.8201\n",
      "Epoch 99/205\n",
      "220/220 [==============================] - 2s 9ms/step - loss: 0.4580 - accuracy: 0.8334 - val_loss: 0.5000 - val_accuracy: 0.8172\n",
      "Epoch 100/205\n",
      "220/220 [==============================] - 2s 9ms/step - loss: 0.4561 - accuracy: 0.8374 - val_loss: 0.4972 - val_accuracy: 0.8091\n",
      "Epoch 101/205\n",
      "220/220 [==============================] - 2s 9ms/step - loss: 0.4487 - accuracy: 0.8360 - val_loss: 0.4931 - val_accuracy: 0.8195\n",
      "Epoch 102/205\n",
      "220/220 [==============================] - 2s 9ms/step - loss: 0.4392 - accuracy: 0.8351 - val_loss: 0.4999 - val_accuracy: 0.8137\n",
      "Epoch 103/205\n",
      "220/220 [==============================] - 2s 10ms/step - loss: 0.4447 - accuracy: 0.8368 - val_loss: 0.5151 - val_accuracy: 0.8172\n",
      "Epoch 104/205\n",
      "220/220 [==============================] - 2s 9ms/step - loss: 0.4451 - accuracy: 0.8363 - val_loss: 0.4816 - val_accuracy: 0.8172\n",
      "Epoch 105/205\n",
      "220/220 [==============================] - 2s 10ms/step - loss: 0.4389 - accuracy: 0.8306 - val_loss: 0.4929 - val_accuracy: 0.8183\n",
      "Epoch 106/205\n",
      "220/220 [==============================] - 2s 9ms/step - loss: 0.4334 - accuracy: 0.8420 - val_loss: 0.4875 - val_accuracy: 0.8149\n",
      "Epoch 107/205\n",
      "220/220 [==============================] - 2s 9ms/step - loss: 0.4461 - accuracy: 0.8391 - val_loss: 0.4910 - val_accuracy: 0.8155\n",
      "Epoch 108/205\n",
      "220/220 [==============================] - 2s 10ms/step - loss: 0.4393 - accuracy: 0.8391 - val_loss: 0.4986 - val_accuracy: 0.8143\n",
      "Epoch 109/205\n",
      "220/220 [==============================] - 2s 10ms/step - loss: 0.4282 - accuracy: 0.8437 - val_loss: 0.4824 - val_accuracy: 0.8224\n",
      "Epoch 110/205\n",
      "220/220 [==============================] - 2s 9ms/step - loss: 0.4234 - accuracy: 0.8476 - val_loss: 0.5023 - val_accuracy: 0.8131\n",
      "Epoch 111/205\n",
      "220/220 [==============================] - 2s 9ms/step - loss: 0.4234 - accuracy: 0.8465 - val_loss: 0.4827 - val_accuracy: 0.8241\n",
      "Epoch 112/205\n",
      "220/220 [==============================] - 2s 9ms/step - loss: 0.4218 - accuracy: 0.8454 - val_loss: 0.4912 - val_accuracy: 0.8195\n",
      "Epoch 113/205\n",
      "220/220 [==============================] - 2s 9ms/step - loss: 0.4196 - accuracy: 0.8499 - val_loss: 0.4829 - val_accuracy: 0.8195\n",
      "Epoch 114/205\n",
      "220/220 [==============================] - 2s 9ms/step - loss: 0.4079 - accuracy: 0.8559 - val_loss: 0.4778 - val_accuracy: 0.8224\n"
     ]
    },
    {
     "name": "stdout",
     "output_type": "stream",
     "text": [
      "Epoch 115/205\n",
      "220/220 [==============================] - 2s 9ms/step - loss: 0.4230 - accuracy: 0.8420 - val_loss: 0.4753 - val_accuracy: 0.8264\n",
      "Epoch 116/205\n",
      "220/220 [==============================] - 2s 9ms/step - loss: 0.4132 - accuracy: 0.8454 - val_loss: 0.4753 - val_accuracy: 0.8241\n",
      "Epoch 117/205\n",
      "220/220 [==============================] - 2s 9ms/step - loss: 0.4101 - accuracy: 0.8479 - val_loss: 0.4728 - val_accuracy: 0.8206\n",
      "Epoch 118/205\n",
      "220/220 [==============================] - 2s 9ms/step - loss: 0.4158 - accuracy: 0.8439 - val_loss: 0.4725 - val_accuracy: 0.8253\n",
      "Epoch 119/205\n",
      "220/220 [==============================] - 2s 9ms/step - loss: 0.4019 - accuracy: 0.8579 - val_loss: 0.4722 - val_accuracy: 0.8195\n",
      "Epoch 120/205\n",
      "220/220 [==============================] - 2s 9ms/step - loss: 0.4079 - accuracy: 0.8528 - val_loss: 0.4594 - val_accuracy: 0.8281\n",
      "Epoch 121/205\n",
      "220/220 [==============================] - 2s 9ms/step - loss: 0.4032 - accuracy: 0.8547 - val_loss: 0.4718 - val_accuracy: 0.8189\n",
      "Epoch 122/205\n",
      "220/220 [==============================] - 2s 9ms/step - loss: 0.3939 - accuracy: 0.8573 - val_loss: 0.4776 - val_accuracy: 0.8224\n",
      "Epoch 123/205\n",
      "220/220 [==============================] - 2s 9ms/step - loss: 0.4010 - accuracy: 0.8547 - val_loss: 0.4607 - val_accuracy: 0.8264\n",
      "Epoch 124/205\n",
      "220/220 [==============================] - 2s 10ms/step - loss: 0.3950 - accuracy: 0.8539 - val_loss: 0.4842 - val_accuracy: 0.8258\n",
      "Epoch 125/205\n",
      "220/220 [==============================] - 2s 9ms/step - loss: 0.3983 - accuracy: 0.8513 - val_loss: 0.4692 - val_accuracy: 0.8287\n",
      "Epoch 126/205\n",
      "220/220 [==============================] - 2s 9ms/step - loss: 0.4032 - accuracy: 0.8565 - val_loss: 0.4674 - val_accuracy: 0.8258\n",
      "Epoch 127/205\n",
      "220/220 [==============================] - 2s 9ms/step - loss: 0.3925 - accuracy: 0.8567 - val_loss: 0.4664 - val_accuracy: 0.8293\n",
      "Epoch 128/205\n",
      "220/220 [==============================] - 2s 9ms/step - loss: 0.3834 - accuracy: 0.8542 - val_loss: 0.4794 - val_accuracy: 0.8212\n",
      "Epoch 129/205\n",
      "220/220 [==============================] - 2s 9ms/step - loss: 0.3992 - accuracy: 0.8547 - val_loss: 0.4723 - val_accuracy: 0.8183\n",
      "Epoch 130/205\n",
      "220/220 [==============================] - 2s 9ms/step - loss: 0.3961 - accuracy: 0.8562 - val_loss: 0.4603 - val_accuracy: 0.8333\n",
      "Epoch 131/205\n",
      "220/220 [==============================] - 2s 9ms/step - loss: 0.3802 - accuracy: 0.8567 - val_loss: 0.4655 - val_accuracy: 0.8270\n",
      "Epoch 132/205\n",
      "220/220 [==============================] - 2s 9ms/step - loss: 0.3832 - accuracy: 0.8604 - val_loss: 0.4819 - val_accuracy: 0.8310\n",
      "Epoch 133/205\n",
      "220/220 [==============================] - 2s 9ms/step - loss: 0.3876 - accuracy: 0.8582 - val_loss: 0.4546 - val_accuracy: 0.8304\n",
      "Epoch 134/205\n",
      "220/220 [==============================] - 2s 9ms/step - loss: 0.3736 - accuracy: 0.8638 - val_loss: 0.4622 - val_accuracy: 0.8293\n",
      "Epoch 135/205\n",
      "220/220 [==============================] - 2s 9ms/step - loss: 0.3768 - accuracy: 0.8658 - val_loss: 0.4782 - val_accuracy: 0.8276\n",
      "Epoch 136/205\n",
      "220/220 [==============================] - 2s 9ms/step - loss: 0.3870 - accuracy: 0.8553 - val_loss: 0.4781 - val_accuracy: 0.8264\n",
      "Epoch 137/205\n",
      "220/220 [==============================] - 2s 9ms/step - loss: 0.3769 - accuracy: 0.8630 - val_loss: 0.4711 - val_accuracy: 0.8299\n",
      "Epoch 138/205\n",
      "220/220 [==============================] - 2s 9ms/step - loss: 0.3722 - accuracy: 0.8579 - val_loss: 0.4619 - val_accuracy: 0.8247\n",
      "Epoch 139/205\n",
      "220/220 [==============================] - 2s 9ms/step - loss: 0.3690 - accuracy: 0.8670 - val_loss: 0.4575 - val_accuracy: 0.8322\n",
      "Epoch 140/205\n",
      "220/220 [==============================] - 2s 9ms/step - loss: 0.3638 - accuracy: 0.8621 - val_loss: 0.4582 - val_accuracy: 0.8304\n",
      "Epoch 141/205\n",
      "220/220 [==============================] - 2s 10ms/step - loss: 0.3605 - accuracy: 0.8707 - val_loss: 0.4548 - val_accuracy: 0.8316\n",
      "Epoch 142/205\n",
      "220/220 [==============================] - 2s 9ms/step - loss: 0.3525 - accuracy: 0.8746 - val_loss: 0.4543 - val_accuracy: 0.8304\n",
      "Epoch 143/205\n",
      "220/220 [==============================] - 2s 9ms/step - loss: 0.3746 - accuracy: 0.8650 - val_loss: 0.4568 - val_accuracy: 0.8299\n",
      "Epoch 144/205\n",
      "220/220 [==============================] - 2s 9ms/step - loss: 0.3616 - accuracy: 0.8664 - val_loss: 0.4568 - val_accuracy: 0.8403\n",
      "Epoch 145/205\n",
      "220/220 [==============================] - 2s 9ms/step - loss: 0.3543 - accuracy: 0.8732 - val_loss: 0.4778 - val_accuracy: 0.8316\n",
      "Epoch 146/205\n",
      "220/220 [==============================] - 2s 9ms/step - loss: 0.3572 - accuracy: 0.8658 - val_loss: 0.4502 - val_accuracy: 0.8351\n",
      "Epoch 147/205\n",
      "220/220 [==============================] - 2s 10ms/step - loss: 0.3457 - accuracy: 0.8741 - val_loss: 0.4522 - val_accuracy: 0.8356\n",
      "Epoch 148/205\n",
      "220/220 [==============================] - 2s 9ms/step - loss: 0.3559 - accuracy: 0.8661 - val_loss: 0.4715 - val_accuracy: 0.8310\n",
      "Epoch 149/205\n",
      "220/220 [==============================] - 2s 9ms/step - loss: 0.3530 - accuracy: 0.8727 - val_loss: 0.4549 - val_accuracy: 0.8391\n",
      "Epoch 150/205\n",
      "220/220 [==============================] - 2s 9ms/step - loss: 0.3576 - accuracy: 0.8687 - val_loss: 0.4524 - val_accuracy: 0.8333\n",
      "Epoch 151/205\n",
      "220/220 [==============================] - 2s 9ms/step - loss: 0.3452 - accuracy: 0.8721 - val_loss: 0.4566 - val_accuracy: 0.8379\n",
      "Epoch 152/205\n",
      "220/220 [==============================] - 2s 10ms/step - loss: 0.3483 - accuracy: 0.8744 - val_loss: 0.4529 - val_accuracy: 0.8356\n",
      "Epoch 153/205\n",
      "220/220 [==============================] - 2s 9ms/step - loss: 0.3462 - accuracy: 0.8735 - val_loss: 0.4654 - val_accuracy: 0.8328\n",
      "Epoch 154/205\n",
      "220/220 [==============================] - 2s 9ms/step - loss: 0.3345 - accuracy: 0.8775 - val_loss: 0.4453 - val_accuracy: 0.8379\n",
      "Epoch 155/205\n",
      "220/220 [==============================] - 2s 9ms/step - loss: 0.3461 - accuracy: 0.8758 - val_loss: 0.4542 - val_accuracy: 0.8374\n",
      "Epoch 156/205\n",
      "220/220 [==============================] - 2s 9ms/step - loss: 0.3472 - accuracy: 0.8738 - val_loss: 0.4452 - val_accuracy: 0.8339\n",
      "Epoch 157/205\n",
      "220/220 [==============================] - 2s 9ms/step - loss: 0.3341 - accuracy: 0.8812 - val_loss: 0.4604 - val_accuracy: 0.8368\n",
      "Epoch 158/205\n",
      "220/220 [==============================] - 2s 9ms/step - loss: 0.3362 - accuracy: 0.8778 - val_loss: 0.4437 - val_accuracy: 0.8478\n",
      "Epoch 159/205\n",
      "220/220 [==============================] - 2s 9ms/step - loss: 0.3314 - accuracy: 0.8764 - val_loss: 0.4462 - val_accuracy: 0.8351\n",
      "Epoch 160/205\n",
      "220/220 [==============================] - 2s 9ms/step - loss: 0.3425 - accuracy: 0.8803 - val_loss: 0.4390 - val_accuracy: 0.8460\n",
      "Epoch 161/205\n",
      "220/220 [==============================] - 2s 9ms/step - loss: 0.3305 - accuracy: 0.8781 - val_loss: 0.4480 - val_accuracy: 0.8408\n",
      "Epoch 162/205\n",
      "220/220 [==============================] - 2s 9ms/step - loss: 0.3322 - accuracy: 0.8820 - val_loss: 0.4337 - val_accuracy: 0.8379\n",
      "Epoch 163/205\n",
      "220/220 [==============================] - 2s 10ms/step - loss: 0.3211 - accuracy: 0.8843 - val_loss: 0.4626 - val_accuracy: 0.8299\n",
      "Epoch 164/205\n",
      "220/220 [==============================] - 2s 11ms/step - loss: 0.3170 - accuracy: 0.8869 - val_loss: 0.4338 - val_accuracy: 0.8454\n",
      "Epoch 165/205\n",
      "220/220 [==============================] - 2s 11ms/step - loss: 0.3217 - accuracy: 0.8803 - val_loss: 0.4492 - val_accuracy: 0.8328\n",
      "Epoch 166/205\n",
      "220/220 [==============================] - 3s 11ms/step - loss: 0.3166 - accuracy: 0.8857 - val_loss: 0.4384 - val_accuracy: 0.8460\n",
      "Epoch 167/205\n",
      "220/220 [==============================] - 2s 11ms/step - loss: 0.3149 - accuracy: 0.8889 - val_loss: 0.4417 - val_accuracy: 0.8304\n",
      "Epoch 168/205\n",
      "220/220 [==============================] - 2s 9ms/step - loss: 0.3208 - accuracy: 0.8818 - val_loss: 0.4454 - val_accuracy: 0.8374\n",
      "Epoch 169/205\n",
      "220/220 [==============================] - 2s 9ms/step - loss: 0.3132 - accuracy: 0.8889 - val_loss: 0.4498 - val_accuracy: 0.8431\n",
      "Epoch 170/205\n",
      "220/220 [==============================] - 2s 9ms/step - loss: 0.3079 - accuracy: 0.8923 - val_loss: 0.4450 - val_accuracy: 0.8362\n",
      "Epoch 171/205\n",
      "220/220 [==============================] - 2s 9ms/step - loss: 0.3180 - accuracy: 0.8872 - val_loss: 0.4408 - val_accuracy: 0.8414\n",
      "Epoch 172/205\n",
      "220/220 [==============================] - 2s 9ms/step - loss: 0.3110 - accuracy: 0.8883 - val_loss: 0.4335 - val_accuracy: 0.8368\n",
      "Epoch 173/205\n",
      "220/220 [==============================] - 2s 9ms/step - loss: 0.3110 - accuracy: 0.8883 - val_loss: 0.4388 - val_accuracy: 0.8391\n",
      "Epoch 174/205\n",
      "220/220 [==============================] - 2s 9ms/step - loss: 0.3033 - accuracy: 0.8965 - val_loss: 0.4410 - val_accuracy: 0.8466\n",
      "Epoch 175/205\n",
      "220/220 [==============================] - 2s 9ms/step - loss: 0.3110 - accuracy: 0.8877 - val_loss: 0.4354 - val_accuracy: 0.8460\n",
      "Epoch 176/205\n",
      "220/220 [==============================] - 2s 9ms/step - loss: 0.3027 - accuracy: 0.8903 - val_loss: 0.4323 - val_accuracy: 0.8460\n",
      "Epoch 177/205\n",
      "220/220 [==============================] - 2s 9ms/step - loss: 0.3009 - accuracy: 0.8889 - val_loss: 0.4498 - val_accuracy: 0.8385\n",
      "Epoch 178/205\n",
      "220/220 [==============================] - 2s 9ms/step - loss: 0.2985 - accuracy: 0.8908 - val_loss: 0.4233 - val_accuracy: 0.8535\n",
      "Epoch 179/205\n",
      "220/220 [==============================] - 2s 9ms/step - loss: 0.3063 - accuracy: 0.8923 - val_loss: 0.4399 - val_accuracy: 0.8478\n",
      "Epoch 180/205\n",
      "220/220 [==============================] - 2s 9ms/step - loss: 0.3021 - accuracy: 0.8863 - val_loss: 0.4328 - val_accuracy: 0.8449\n",
      "Epoch 181/205\n",
      "220/220 [==============================] - 2s 10ms/step - loss: 0.3006 - accuracy: 0.8943 - val_loss: 0.4295 - val_accuracy: 0.8460\n",
      "Epoch 182/205\n",
      "220/220 [==============================] - 2s 9ms/step - loss: 0.2975 - accuracy: 0.8889 - val_loss: 0.4325 - val_accuracy: 0.8420\n",
      "Epoch 183/205\n",
      "220/220 [==============================] - 2s 10ms/step - loss: 0.2941 - accuracy: 0.8982 - val_loss: 0.4433 - val_accuracy: 0.8414\n",
      "Epoch 184/205\n",
      "220/220 [==============================] - 3s 12ms/step - loss: 0.2951 - accuracy: 0.8948 - val_loss: 0.4302 - val_accuracy: 0.8501\n",
      "Epoch 185/205\n",
      "220/220 [==============================] - 2s 10ms/step - loss: 0.2824 - accuracy: 0.8954 - val_loss: 0.4483 - val_accuracy: 0.8397\n",
      "Epoch 186/205\n",
      "220/220 [==============================] - 2s 9ms/step - loss: 0.2942 - accuracy: 0.8903 - val_loss: 0.4248 - val_accuracy: 0.8581\n",
      "Epoch 187/205\n",
      "220/220 [==============================] - 2s 9ms/step - loss: 0.3031 - accuracy: 0.8965 - val_loss: 0.4339 - val_accuracy: 0.8535\n",
      "Epoch 188/205\n",
      "220/220 [==============================] - 2s 9ms/step - loss: 0.2841 - accuracy: 0.9005 - val_loss: 0.4223 - val_accuracy: 0.8478\n",
      "Epoch 189/205\n",
      "220/220 [==============================] - 2s 9ms/step - loss: 0.2942 - accuracy: 0.8923 - val_loss: 0.4360 - val_accuracy: 0.8431\n",
      "Epoch 190/205\n",
      "220/220 [==============================] - 2s 8ms/step - loss: 0.2850 - accuracy: 0.8960 - val_loss: 0.4330 - val_accuracy: 0.8414\n",
      "Epoch 191/205\n",
      "220/220 [==============================] - 2s 9ms/step - loss: 0.2820 - accuracy: 0.8988 - val_loss: 0.4473 - val_accuracy: 0.8414\n",
      "Epoch 192/205\n",
      "220/220 [==============================] - 2s 8ms/step - loss: 0.2901 - accuracy: 0.9005 - val_loss: 0.4259 - val_accuracy: 0.8489\n",
      "Epoch 193/205\n",
      "220/220 [==============================] - 2s 9ms/step - loss: 0.2868 - accuracy: 0.9005 - val_loss: 0.4366 - val_accuracy: 0.8414\n",
      "Epoch 194/205\n",
      "220/220 [==============================] - 2s 9ms/step - loss: 0.2825 - accuracy: 0.8982 - val_loss: 0.4289 - val_accuracy: 0.8466\n",
      "Epoch 195/205\n",
      "220/220 [==============================] - 2s 9ms/step - loss: 0.2569 - accuracy: 0.9076 - val_loss: 0.4355 - val_accuracy: 0.8478\n",
      "Epoch 196/205\n",
      "220/220 [==============================] - 2s 9ms/step - loss: 0.2855 - accuracy: 0.8997 - val_loss: 0.4221 - val_accuracy: 0.8535\n",
      "Epoch 197/205\n",
      "220/220 [==============================] - 2s 11ms/step - loss: 0.2834 - accuracy: 0.8994 - val_loss: 0.4327 - val_accuracy: 0.8558\n",
      "Epoch 198/205\n",
      "220/220 [==============================] - 3s 12ms/step - loss: 0.2741 - accuracy: 0.8971 - val_loss: 0.4222 - val_accuracy: 0.8483\n",
      "Epoch 199/205\n",
      "220/220 [==============================] - 2s 11ms/step - loss: 0.2732 - accuracy: 0.9016 - val_loss: 0.4260 - val_accuracy: 0.8564\n",
      "Epoch 200/205\n",
      "220/220 [==============================] - 2s 11ms/step - loss: 0.2613 - accuracy: 0.9039 - val_loss: 0.4292 - val_accuracy: 0.8501\n",
      "Epoch 201/205\n",
      "220/220 [==============================] - 2s 11ms/step - loss: 0.2578 - accuracy: 0.9107 - val_loss: 0.4282 - val_accuracy: 0.8552\n",
      "Epoch 202/205\n",
      "220/220 [==============================] - 2s 11ms/step - loss: 0.2762 - accuracy: 0.9045 - val_loss: 0.4407 - val_accuracy: 0.8449\n",
      "Epoch 203/205\n",
      "220/220 [==============================] - 2s 9ms/step - loss: 0.2620 - accuracy: 0.9073 - val_loss: 0.4451 - val_accuracy: 0.8489\n",
      "Epoch 204/205\n",
      "220/220 [==============================] - 2s 8ms/step - loss: 0.2711 - accuracy: 0.9034 - val_loss: 0.4180 - val_accuracy: 0.8489\n",
      "Epoch 205/205\n",
      "220/220 [==============================] - 2s 9ms/step - loss: 0.2514 - accuracy: 0.9096 - val_loss: 0.4331 - val_accuracy: 0.8466\n"
     ]
    }
   ],
   "source": [
    "cnnhistory=model.fit(x_traincnn, y_train, batch_size=16, epochs=205, validation_data=(x_testcnn, y_test))"
   ]
  },
  {
   "cell_type": "code",
   "execution_count": 12,
   "id": "bebe1d7d",
   "metadata": {},
   "outputs": [
    {
     "data": {
      "image/png": "[encoded data removed]",
      "text/plain": [
       "<Figure size 640x480 with 1 Axes>"
      ]
     },
     "metadata": {},
     "output_type": "display_data"
    }
   ],
   "source": [
    "plt.plot(cnnhistory.history['loss'])\n",
    "plt.plot(cnnhistory.history['val_loss'])\n",
    "plt.title('model loss')\n",
    "plt.ylabel('loss')\n",
    "plt.xlabel('epoch')\n",
    "plt.legend(['train', 'test'], loc='upper left')\n",
    "plt.show()"
   ]
  },
  {
   "cell_type": "code",
   "execution_count": 13,
   "id": "183705c4",
   "metadata": {},
   "outputs": [
    {
     "data": {
      "image/png": "[encoded data removed]",
      "text/plain": [
       "<Figure size 640x480 with 1 Axes>"
      ]
     },
     "metadata": {},
     "output_type": "display_data"
    }
   ],
   "source": [
    "plt.plot(cnnhistory.history['accuracy'])\n",
    "plt.plot(cnnhistory.history['val_accuracy'])\n",
    "plt.title('model accuracy')\n",
    "plt.ylabel('accuracy')\n",
    "plt.xlabel('epoch')\n",
    "plt.legend(['train', 'test'], loc='upper left')\n",
    "plt.show()"
   ]
  },
  {
   "cell_type": "code",
   "execution_count": 14,
   "id": "8e4fed45",
   "metadata": {},
   "outputs": [
    {
     "name": "stdout",
     "output_type": "stream",
     "text": [
      "55/55 [==============================] - 0s 3ms/step\n"
     ]
    }
   ],
   "source": [
    "predictions = model.predict(x_testcnn)"
   ]
  },
  {
   "cell_type": "code",
   "execution_count": 15,
   "id": "8c8aea5c",
   "metadata": {},
   "outputs": [],
   "source": [
    "predictions = np.argmax(predictions, axis=1)"
   ]
  },
  {
   "cell_type": "code",
   "execution_count": 16,
   "id": "aa4f671a",
   "metadata": {},
   "outputs": [
    {
     "data": {
      "text/plain": [
       "array([3, 3, 3, ..., 1, 6, 2])"
      ]
     },
     "execution_count": 16,
     "metadata": {},
     "output_type": "execute_result"
    }
   ],
   "source": [
    "y_test"
   ]
  },
  {
   "cell_type": "code",
   "execution_count": 17,
   "id": "a1f4473a",
   "metadata": {},
   "outputs": [
    {
     "data": {
      "text/plain": [
       "array([3, 3, 3, ..., 1, 6, 2], dtype=int64)"
      ]
     },
     "execution_count": 17,
     "metadata": {},
     "output_type": "execute_result"
    }
   ],
   "source": [
    "predictions"
   ]
  },
  {
   "cell_type": "code",
   "execution_count": 19,
   "id": "d1878980",
   "metadata": {},
   "outputs": [
    {
     "name": "stdout",
     "output_type": "stream",
     "text": [
      "              precision    recall  f1-score   support\n",
      "\n",
      "           0       0.91      0.89      0.90       192\n",
      "           1       0.70      0.83      0.76       123\n",
      "           2       0.83      0.84      0.83       264\n",
      "           3       0.90      0.78      0.84       275\n",
      "           4       0.89      0.89      0.89       252\n",
      "           5       0.78      0.87      0.82       241\n",
      "           6       0.85      0.83      0.84       197\n",
      "           7       0.88      0.85      0.87       190\n",
      "\n",
      "    accuracy                           0.85      1734\n",
      "   macro avg       0.84      0.85      0.84      1734\n",
      "weighted avg       0.85      0.85      0.85      1734\n",
      "\n"
     ]
    }
   ],
   "source": [
    "from sklearn.metrics import classification_report\n",
    "report = classification_report(y_test, predictions)\n",
    "print(report)"
   ]
  },
  {
   "cell_type": "code",
   "execution_count": 21,
   "id": "4bdc87ac",
   "metadata": {},
   "outputs": [
    {
     "name": "stdout",
     "output_type": "stream",
     "text": [
      "[[171  10   1   5   1   1   1   2]\n",
      " [  6 102   9   1   0   4   1   0]\n",
      " [  0  13 222   1   7  13   5   3]\n",
      " [  6  10   9 215   3  22   5   5]\n",
      " [  0   1   7   3 224   8   7   2]\n",
      " [  1   1   8  13   4 210   2   2]\n",
      " [  2   6   3   1   8   7 163   7]\n",
      " [  1   2   9   0   4   5   8 161]]\n"
     ]
    }
   ],
   "source": [
    "from sklearn.metrics import confusion_matrix\n",
    "matrix = confusion_matrix(y_test, predictions)\n",
    "print (matrix)\n",
    "\n",
    "# 0 = neutral, 1 = calm, 2 = happy, 3 = sad, 4 = angry, 5 = fearful, 6 = disgust, 7 = surprised"
   ]
  },
  {
   "cell_type": "markdown",
   "id": "8f83f370",
   "metadata": {},
   "source": [
    "# Saving the Model"
   ]
  },
  {
   "cell_type": "code",
   "execution_count": 22,
   "id": "934b48de",
   "metadata": {},
   "outputs": [
    {
     "name": "stdout",
     "output_type": "stream",
     "text": [
      "MODEL SAVED\n"
     ]
    }
   ],
   "source": [
    "model.save(r'E:\\#1 DATA SCIENCE\\#4 Deep Learning\\Projects\\Speech Emotion Detection\\SER_MODEL\\SER_model.h5')\n",
    "print(\"MODEL SAVED\")"
   ]
  },
  {
   "cell_type": "code",
   "execution_count": 8,
   "id": "083872f7",
   "metadata": {},
   "outputs": [
    {
     "name": "stdout",
     "output_type": "stream",
     "text": [
      "Model: \"sequential\"\n",
      "_________________________________________________________________\n",
      " Layer (type)                Output Shape              Param #   \n",
      "=================================================================\n",
      " conv1d (Conv1D)             (None, 40, 64)            384       \n",
      "                                                                 \n",
      " activation (Activation)     (None, 40, 64)            0         \n",
      "                                                                 \n",
      " dropout (Dropout)           (None, 40, 64)            0         \n",
      "                                                                 \n",
      " max_pooling1d (MaxPooling1D  (None, 10, 64)           0         \n",
      " )                                                               \n",
      "                                                                 \n",
      " conv1d_1 (Conv1D)           (None, 10, 128)           41088     \n",
      "                                                                 \n",
      " activation_1 (Activation)   (None, 10, 128)           0         \n",
      "                                                                 \n",
      " dropout_1 (Dropout)         (None, 10, 128)           0         \n",
      "                                                                 \n",
      " max_pooling1d_1 (MaxPooling  (None, 2, 128)           0         \n",
      " 1D)                                                             \n",
      "                                                                 \n",
      " conv1d_2 (Conv1D)           (None, 2, 256)            164096    \n",
      "                                                                 \n",
      " activation_2 (Activation)   (None, 2, 256)            0         \n",
      "                                                                 \n",
      " dropout_2 (Dropout)         (None, 2, 256)            0         \n",
      "                                                                 \n",
      " flatten (Flatten)           (None, 512)               0         \n",
      "                                                                 \n",
      " dense (Dense)               (None, 8)                 4104      \n",
      "                                                                 \n",
      " activation_3 (Activation)   (None, 8)                 0         \n",
      "                                                                 \n",
      "=================================================================\n",
      "Total params: 209,672\n",
      "Trainable params: 209,672\n",
      "Non-trainable params: 0\n",
      "_________________________________________________________________\n"
     ]
    }
   ],
   "source": [
    "new_model=keras.models.load_model(r'E:\\#1 DATA SCIENCE\\#4 Deep Learning\\Projects\\Speech Emotion Detection\\SER_MODEL\\SER_model.h5')\n",
    "new_model.summary()"
   ]
  },
  {
   "cell_type": "code",
   "execution_count": 9,
   "id": "30a7835a",
   "metadata": {},
   "outputs": [
    {
     "name": "stdout",
     "output_type": "stream",
     "text": [
      "55/55 [==============================] - 0s 3ms/step - loss: 0.2652 - accuracy: 0.9164\n",
      "Restored model, accuracy: 91.64%\n"
     ]
    }
   ],
   "source": [
    "loss, acc = new_model.evaluate(x_testcnn, y_test)\n",
    "print(\"Restored model, accuracy: {:5.2f}%\".format(100*acc))"
   ]
  },
  {
   "cell_type": "code",
   "execution_count": 10,
   "id": "cd6cd4f6",
   "metadata": {},
   "outputs": [
    {
     "name": "stdout",
     "output_type": "stream",
     "text": [
      "55/55 [==============================] - 0s 3ms/step\n"
     ]
    }
   ],
   "source": [
    "new_predictions = new_model.predict(x_testcnn)"
   ]
  },
  {
   "cell_type": "code",
   "execution_count": 11,
   "id": "abb217fd",
   "metadata": {},
   "outputs": [
    {
     "data": {
      "text/plain": [
       "array([3, 3, 3, ..., 1, 6, 2], dtype=int64)"
      ]
     },
     "execution_count": 11,
     "metadata": {},
     "output_type": "execute_result"
    }
   ],
   "source": [
    "new_predictions = np.argmax(new_predictions, axis=1) # argmax along axis-1. Remember: for 2D Numpy arrays, axis-1 points horizontally across the columns. So when we set axis = 1 , argmax identifies the maximum value for every row. And it returns the column index of that maximum value\n",
    "new_predictions"
   ]
  },
  {
   "cell_type": "code",
   "execution_count": 12,
   "id": "bff99a79",
   "metadata": {},
   "outputs": [
    {
     "name": "stdout",
     "output_type": "stream",
     "text": [
      "              precision    recall  f1-score   support\n",
      "\n",
      "           0       0.96      0.91      0.93       192\n",
      "           1       0.89      0.90      0.90       123\n",
      "           2       0.93      0.92      0.92       264\n",
      "           3       0.86      0.94      0.90       275\n",
      "           4       0.90      0.96      0.93       252\n",
      "           5       0.95      0.85      0.90       241\n",
      "           6       0.91      0.95      0.93       197\n",
      "           7       0.97      0.89      0.93       190\n",
      "\n",
      "    accuracy                           0.92      1734\n",
      "   macro avg       0.92      0.91      0.92      1734\n",
      "weighted avg       0.92      0.92      0.92      1734\n",
      "\n"
     ]
    }
   ],
   "source": [
    "from sklearn.metrics import classification_report\n",
    "report = classification_report(y_test, new_predictions)\n",
    "print(report)"
   ]
  },
  {
   "cell_type": "markdown",
   "id": "ef67fad6",
   "metadata": {},
   "source": [
    "# Thank YOU"
   ]
  },
  {
   "cell_type": "code",
   "execution_count": null,
   "id": "352ec6c8",
   "metadata": {},
   "outputs": [],
   "source": []
  }
 ],
 "metadata": {
  "kernelspec": {
   "display_name": "Python 3 (ipykernel)",
   "language": "python",
   "name": "python3"
  },
  "language_info": {
   "codemirror_mode": {
    "name": "ipython",
    "version": 3
   },
   "file_extension": ".py",
   "mimetype": "text/x-python",
   "name": "python",
   "nbconvert_exporter": "python",
   "pygments_lexer": "ipython3",
   "version": "3.10.9"
  }
 },
 "nbformat": 4,
 "nbformat_minor": 5
}
